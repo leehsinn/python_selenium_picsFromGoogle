{
 "cells": [
  {
   "cell_type": "code",
   "execution_count": 1,
   "id": "e4907615",
   "metadata": {},
   "outputs": [
    {
     "name": "stderr",
     "output_type": "stream",
     "text": [
      "C:\\Users\\user\\AppData\\Local\\Temp\\ipykernel_200192\\3488790170.py:7: DeprecationWarning: executable_path has been deprecated, please pass in a Service object\n",
      "  driver = webdriver.Chrome(\"C:\\\\Users\\\\user\\\\chromedriver.exe\")\n"
     ]
    }
   ],
   "source": [
    "from selenium import webdriver \n",
    "from selenium.webdriver.common.by import By\n",
    "from selenium.webdriver.support.wait import WebDriverWait\n",
    "from selenium.webdriver.support import expected_conditions as EC\n",
    "from selenium.webdriver.chrome.options import Options\n",
    "\n",
    "driver = webdriver.Chrome(\"C:\\\\Users\\\\user\\\\chromedriver.exe\")\n",
    "driver.get(\"https://www.google.com.tw/?hl=zh_TW\")\n",
    "\n",
    "search = WebDriverWait(driver,10).until(EC.element_to_be_clickable((By.CSS_SELECTOR,\"textarea[class='gLFyf']\")))\n",
    "search.send_keys(\"winnie the pooh\")\n",
    "\n",
    "go = driver.find_element(By.CSS_SELECTOR,\"input[class='gNO89b']\")\n",
    "go.click()\n",
    "\n",
    "#//:任意位置查詢  /:下一階段查詢\n",
    "#*任意字元/字串 @搜尋屬性[@attr_name=attr_value]\n",
    "\n",
    "driver.find_element(By.XPATH,'//*[text()=\"圖片\"]').click()\n",
    "\n",
    "tool = WebDriverWait(driver,10).until(EC.element_to_be_clickable((By.CSS_SELECTOR,\"div[class='PNyWAd ZXJQ7c']\")))\n",
    "tool.click()\n",
    "driver.find_element(By.XPATH,'//*[text()=\"大小\"]').click()\n",
    "driver.find_element(By.XPATH,'//*[text()=\"大\"]').click()\n",
    "\n"
   ]
  },
  {
   "cell_type": "code",
   "execution_count": 2,
   "id": "7b2391bd",
   "metadata": {},
   "outputs": [
    {
     "name": "stdout",
     "output_type": "stream",
     "text": [
      "['https://www.google.com.tw/imgres?imgurl=https%3A%2F%2Fstatic.wikia.nocookie.net%2Fp__%2Fimages%2F6%2F6e%2FWinnie_The_Pooh.png%2Frevision%2Flatest%3Fcb%3D20190922201041%26path-prefix%3Dprotagonist&tbnid=SOux_zd5JFDrPM&vet=12ahUKEwi7jNaQm7H_AhWQCt4KHdEiApoQMygAegUIARC8AQ..i&imgrefurl=https%3A%2F%2Fhero.fandom.com%2Fwiki%2FWinnie_the_Pooh_(Disney)&docid=9SAcLnGrVu3PSM&w=887&h=1536&q=winnie%20the%20pooh&hl=zh_TW&ved=2ahUKEwi7jNaQm7H_AhWQCt4KHdEiApoQMygAegUIARC8AQ', 'https://www.google.com.tw/imgres?imgurl=http%3A%2F%2Fcdn.shopify.com%2Fs%2Ffiles%2F1%2F0598%2F4085%2F6273%2Fcollections%2FPooh.png%3Fv%3D1662823655&tbnid=snKYFNoe0cogsM&vet=12ahUKEwi7jNaQm7H_AhWQCt4KHdEiApoQMygBegUIARC-AQ..i&imgrefurl=https%3A%2F%2Fmorisawahk.com%2Fcollections%2Fwinnie-the-pooh%25E5%25B0%258F%25E7%2586%258A%25E7%25B6%25AD%25E5%25B0%25BC&docid=YmtGiACYMb0UxM&w=1417&h=1449&q=winnie%20the%20pooh&hl=zh_TW&ved=2ahUKEwi7jNaQm7H_AhWQCt4KHdEiApoQMygBegUIARC-AQ', 'https://www.google.com.tw/imgres?imgurl=https%3A%2F%2Fwww.rd.com%2Fwp-content%2Fuploads%2F2020%2F01%2Fshutterstock_247528582-2-copy-scaled.jpg&tbnid=Hiq7vIjkPycTVM&vet=12ahUKEwi7jNaQm7H_AhWQCt4KHdEiApoQMygCegUIARDAAQ..i&imgrefurl=https%3A%2F%2Fwww.rd.com%2Farticle%2Ffacts-about-winnie-the-pooh%2F&docid=rrF-5qfd7ySZrM&w=2560&h=1706&q=winnie%20the%20pooh&hl=zh_TW&ved=2ahUKEwi7jNaQm7H_AhWQCt4KHdEiApoQMygCegUIARDAAQ', 'https://www.google.com.tw/imgres?imgurl=https%3A%2F%2Flumiere-a.akamaihd.net%2Fv1%2Fimages%2Fuk_winnie-the-pooh_hero-banner_r_09ed008d.jpeg%3Fregion%3D0%2C0%2C3200%2C1366&tbnid=BwL7W0L35rtZFM&vet=12ahUKEwi7jNaQm7H_AhWQCt4KHdEiApoQMygDegUIARDCAQ..i&imgrefurl=https%3A%2F%2Fwww.disneytickets.co.uk%2Fwinnie-the-pooh-musical-tickets&docid=4MuIDwYLH4RwSM&w=3200&h=1366&q=winnie%20the%20pooh&hl=zh_TW&ved=2ahUKEwi7jNaQm7H_AhWQCt4KHdEiApoQMygDegUIARDCAQ', 'https://www.google.com.tw/imgres?imgurl=https%3A%2F%2Fi.ytimg.com%2Fvi%2FACjLq_tyaqo%2Fmaxresdefault.jpg&tbnid=79AhKJAVeR0m8M&vet=12ahUKEwi7jNaQm7H_AhWQCt4KHdEiApoQMygEegUIARDEAQ..i&imgrefurl=https%3A%2F%2Fwww.youtube.com%2Fwatch%3Fv%3DACjLq_tyaqo&docid=OEhzTSjxZO8GGM&w=1280&h=720&q=winnie%20the%20pooh&hl=zh_TW&ved=2ahUKEwi7jNaQm7H_AhWQCt4KHdEiApoQMygEegUIARDEAQ', 'https://www.google.com.tw/imgres?imgurl=https%3A%2F%2Fpeople.com%2Fthmb%2Fet3_imOkc0bUiShIGpFJMKebK70%3D%2F1500x0%2Ffilters%3Ano_upscale()%3Amax_bytes(150000)%3Astrip_icc()%3Afocal(999x0%3A1001x2)%2Fwinnie-the-pooh-3-3ab9d3a3f4464722933f4fa12fec1fa5.jpg&tbnid=qRT7Ny_Du8XHJM&vet=12ahUKEwi7jNaQm7H_AhWQCt4KHdEiApoQMygFegUIARDIAQ..i&imgrefurl=https%3A%2F%2Fpeople.com%2Fbooks%2Fwinnie-the-pooh-day-book-history%2F&docid=wqIDgfuW5IDfNM&w=1500&h=1000&q=winnie%20the%20pooh&hl=zh_TW&ved=2ahUKEwi7jNaQm7H_AhWQCt4KHdEiApoQMygFegUIARDIAQ', 'https://www.google.com.tw/imgres?imgurl=https%3A%2F%2Fstatic.wikia.nocookie.net%2Ftmnt%2Fimages%2F1%2F11%2FWinnie_Pooh.jpg%2Frevision%2Flatest%3Fcb%3D20140826022503&tbnid=1fNuIYOLnEulEM&vet=12ahUKEwi7jNaQm7H_AhWQCt4KHdEiApoQMygGegUIARDKAQ..i&imgrefurl=https%3A%2F%2Fturtlepedia.fandom.com%2Fwiki%2FWinnie-the-Pooh&docid=uX6med250ZgSJM&w=2000&h=2000&q=winnie%20the%20pooh&hl=zh_TW&ved=2ahUKEwi7jNaQm7H_AhWQCt4KHdEiApoQMygGegUIARDKAQ', 'https://www.google.com.tw/imgres?imgurl=https%3A%2F%2Fwww.alysstephens.org%2Fassets%2F2022%2F05%2FWinnie-the-Pooh-Web-Art-5.3.22-scaled.jpg&tbnid=LgDPRc5_7QnDMM&vet=12ahUKEwi7jNaQm7H_AhWQCt4KHdEiApoQMygHegUIARDMAQ..i&imgrefurl=https%3A%2F%2Fwww.alysstephens.org%2Fevents%2Fwinnie%2F&docid=Fewf_00NPnF4bM&w=2560&h=1298&q=winnie%20the%20pooh&hl=zh_TW&ved=2ahUKEwi7jNaQm7H_AhWQCt4KHdEiApoQMygHegUIARDMAQ', 'https://www.google.com.tw/imgres?imgurl=https%3A%2F%2Fwww.bigw.com.au%2Fmedias%2Fsys_master%2Fimages%2Fimages%2Fh60%2Fh04%2F34788746887198.jpg&tbnid=RZfIqKdCsyOYXM&vet=12ahUKEwi7jNaQm7H_AhWQCt4KHdEiApoQMygIegUIARDOAQ..i&imgrefurl=https%3A%2F%2Fwww.bigw.com.au%2Fproduct%2Fdisney-100-limited-edition-movie-collection-winnie-the-pooh%2Fp%2F268333&docid=nVETI8ieKV1usM&w=900&h=900&q=winnie%20the%20pooh&hl=zh_TW&ved=2ahUKEwi7jNaQm7H_AhWQCt4KHdEiApoQMygIegUIARDOAQ', 'https://www.google.com.tw/imgres?imgurl=http%3A%2F%2Fbooks.disney.com%2Fcontent%2Fuploads%2F2021%2F07%2F1368072119.jpg&tbnid=SMPFBNQKXZcFWM&vet=12ahUKEwi7jNaQm7H_AhWQCt4KHdEiApoQMygJegUIARDRAQ..i&imgrefurl=https%3A%2F%2Fbooks.disney.com%2Fbook%2Fhello-winnie-the-pooh%2F&docid=SnJWCT14Cdop2M&w=2244&h=2246&q=winnie%20the%20pooh&hl=zh_TW&ved=2ahUKEwi7jNaQm7H_AhWQCt4KHdEiApoQMygJegUIARDRAQ', 'https://www.google.com.tw/imgres?imgurl=https%3A%2F%2Fcdn.britannica.com%2F24%2F213924-050-93FA0392%2FTelevision-publicity-still-Owl-Christopher-Robin-Kanga-Tigger-Eeyore-Winnie-the-Pooh-Piglet-1988.jpg&tbnid=zrvPFaQMh1Uj9M&vet=12ahUKEwi7jNaQm7H_AhWQCt4KHdEiApoQMygKegUIARDTAQ..i&imgrefurl=https%3A%2F%2Fwww.britannica.com%2Ftopic%2FChristopher-Robin&docid=A9Z9YRvRRuEihM&w=1600&h=1032&q=winnie%20the%20pooh&hl=zh_TW&ved=2ahUKEwi7jNaQm7H_AhWQCt4KHdEiApoQMygKegUIARDTAQ', 'https://www.google.com.tw/imgres?imgurl=https%3A%2F%2Fstatic.independent.co.uk%2Fs3fs-public%2Fthumbnails%2Fimage%2F2014%2F11%2F20%2F10%2Fwinnie-the-pooh.jpg&tbnid=iS4RX4Qbbs5zpM&vet=12ahUKEwi7jNaQm7H_AhWQCt4KHdEiApoQMygLegUIARDVAQ..i&imgrefurl=https%3A%2F%2Fwww.independent.co.uk%2Farts-entertainment%2Fbooks%2Fnews%2Fwinnie-the-pooh-banned-from-polish-playground-for-being-an-inappropriate-hermaphrodite-9872278.html&docid=XlN8T-99KTjlWM&w=2048&h=1536&q=winnie%20the%20pooh&hl=zh_TW&ved=2ahUKEwi7jNaQm7H_AhWQCt4KHdEiApoQMygLegUIARDVAQ', 'https://www.google.com.tw/imgres?imgurl=https%3A%2F%2Fmedia.wired.com%2Fphotos%2F64274f34b388debed65f7898%2Fmaster%2Fw_2560%252Cc_limit%2FPooh-Blood-And-Honey-Culture.jpg&tbnid=aW_C3vrunUrNFM&vet=12ahUKEwi7jNaQm7H_AhWQCt4KHdEiApoQMygMegUIARDXAQ..i&imgrefurl=https%3A%2F%2Fwww.wired.com%2Fstory%2Fwinnie-the-pooh-blood-and-honey-copyright-fair-use%2F&docid=j6yccNuRx2wOIM&w=1419&h=798&q=winnie%20the%20pooh&hl=zh_TW&ved=2ahUKEwi7jNaQm7H_AhWQCt4KHdEiApoQMygMegUIARDXAQ', 'https://www.google.com.tw/imgres?imgurl=https%3A%2F%2Fstatic1.colliderimages.com%2Fwordpress%2Fwp-content%2Fuploads%2F2023%2F01%2Fwinnie-the-pooh.jpg&tbnid=MORew0B-ZLhL4M&vet=12ahUKEwi7jNaQm7H_AhWQCt4KHdEiApoQMygNegUIARDZAQ..i&imgrefurl=https%3A%2F%2Fcollider.com%2Fwinnie-the-pooh-animated-movies%2F&docid=2zd9jXyydI2vhM&w=1400&h=700&q=winnie%20the%20pooh&hl=zh_TW&ved=2ahUKEwi7jNaQm7H_AhWQCt4KHdEiApoQMygNegUIARDZAQ', 'https://www.google.com.tw/imgres?imgurl=http%3A%2F%2Fcdn.shopify.com%2Fs%2Ffiles%2F1%2F0403%2F5431%2F6439%2Fproducts%2FTonies-PDP-Assets-Winnie-The-Pooh-Single.jpg%3Fv%3D1626375585&tbnid=RKBYClEvDTNBtM&vet=12ahUKEwi7jNaQm7H_AhWQCt4KHdEiApoQMygOegUIARDbAQ..i&imgrefurl=https%3A%2F%2Fus.tonies.com%2Fproducts%2Fwinnie-the-pooh&docid=n-dvLdp6gKmrGM&w=1200&h=1200&q=winnie%20the%20pooh&hl=zh_TW&ved=2ahUKEwi7jNaQm7H_AhWQCt4KHdEiApoQMygOegUIARDbAQ', 'https://www.google.com.tw/imgres?imgurl=https%3A%2F%2Fexeternorthcott.co.uk%2Fwp-content%2Fuploads%2F2022%2F11%2FWTP-1920x1080ANEWADVENTURE.jpg&tbnid=mdkrbch_myvg4M&vet=12ahUKEwi7jNaQm7H_AhWQCt4KHdEiApoQMygPegUIARDeAQ..i&imgrefurl=https%3A%2F%2Fexeternorthcott.co.uk%2Fevents%2Fdisneys-winnie-the-pooh%2F&docid=rUanItq2utFrAM&w=1920&h=1080&q=winnie%20the%20pooh&hl=zh_TW&ved=2ahUKEwi7jNaQm7H_AhWQCt4KHdEiApoQMygPegUIARDeAQ', 'https://www.google.com.tw/imgres?imgurl=https%3A%2F%2Fwww.komar.de%2Fmedia%2Fcatalog%2Fproduct%2Fcache%2F5%2Fimage%2F9df78eab33525d08d6e5fb8d27136e95%2F8%2F-%2F8-460_winnie_pooh_ballooning_m_ma.jpg&tbnid=t_wdJzGDp949hM&vet=12ahUKEwi7jNaQm7H_AhWQCt4KHdEiApoQMygQegUIARDgAQ..i&imgrefurl=https%3A%2F%2Fwww.komar.de%2Fen%2Fwinnie-pooh-ballooning.html&docid=7fyHgcaFWyv20M&w=2000&h=1381&q=winnie%20the%20pooh&hl=zh_TW&ved=2ahUKEwi7jNaQm7H_AhWQCt4KHdEiApoQMygQegUIARDgAQ', 'https://www.google.com.tw/imgres?imgurl=https%3A%2F%2Fcdn.shopify.com%2Fs%2Ffiles%2F1%2F2782%2F2542%2Fproducts%2FSugartess_Pooh_Head.png%3Fv%3D1624294877&tbnid=53MMYgRKwk4sFM&vet=12ahUKEwi7jNaQm7H_AhWQCt4KHdEiApoQMygRegUIARDjAQ..i&imgrefurl=https%3A%2F%2Fsugartess.com%2Fproducts%2Fwinnie-the-pooh-bear-head&docid=_R4CUP1IqCWrIM&w=2000&h=2000&q=winnie%20the%20pooh&hl=zh_TW&ved=2ahUKEwi7jNaQm7H_AhWQCt4KHdEiApoQMygRegUIARDjAQ', 'https://www.google.com.tw/imgres?imgurl=https%3A%2F%2Fstatic.wikia.nocookie.net%2Fdisney%2Fimages%2F0%2F03%2FProfile_-_Winnie_the_Pooh.png%2Frevision%2Flatest%3Fcb%3D20200510194837&tbnid=BL0TCTGIodmG5M&vet=12ahUKEwi7jNaQm7H_AhWQCt4KHdEiApoQMygSegUIARDmAQ..i&imgrefurl=https%3A%2F%2Fdisney.fandom.com%2Fwiki%2FWinnie_the_Pooh&docid=QK8yhQMBddEF-M&w=1035&h=1035&q=winnie%20the%20pooh&hl=zh_TW&ved=2ahUKEwi7jNaQm7H_AhWQCt4KHdEiApoQMygSegUIARDmAQ', 'https://www.google.com.tw/imgres?imgurl=https%3A%2F%2Fs.eslite.dev%2Fupload%2Fproduct%2Fo%2F2682290076002%2F20221103011932571008.jpg&tbnid=UAKzi_6d8h3uCM&vet=12ahUKEwi7jNaQm7H_AhWQCt4KHdEiApoQMygTegUIARDoAQ..i&imgrefurl=https%3A%2F%2Fwww.eslite.com%2Fproduct%2F1001160292682290076002&docid=5NqzPEKwu_KvpM&w=1967&h=2560&q=winnie%20the%20pooh&hl=zh_TW&ved=2ahUKEwi7jNaQm7H_AhWQCt4KHdEiApoQMygTegUIARDoAQ', 'https://www.google.com.tw/imgres?imgurl=https%3A%2F%2Fstatic.independent.co.uk%2F2023%2F03%2F16%2F20%2FWinnie-The-Pooh-Quad.jpg%3Fwidth%3D1200%26height%3D1200%26fit%3Dcrop&tbnid=6Qii8G110Y_2AM&vet=12ahUKEwi7jNaQm7H_AhWQCt4KHdEiApoQMygUegUIARDqAQ..i&imgrefurl=https%3A%2F%2Fwww.independent.co.uk%2Farts-entertainment%2Ffilms%2Ffeatures%2Fwinnie-the-pooh-blood-and-honey-interview-b2302577.html&docid=yaCfcVtnwtvObM&w=1200&h=1200&q=winnie%20the%20pooh&hl=zh_TW&ved=2ahUKEwi7jNaQm7H_AhWQCt4KHdEiApoQMygUegUIARDqAQ', 'https://www.google.com.tw/imgres?imgurl=https%3A%2F%2Fcdn2.psychologytoday.com%2Fassets%2Fstyles%2Fmanual_crop_1_91_1_1528x800%2Fpublic%2Ffield_blog_entry_teaser_image%2F2019-08%2Fwinnie_pooh_png37604_0.png.jpg%3Fitok%3Dm8VaYF2t&tbnid=y5-7ycruk0ko8M&vet=12ahUKEwi7jNaQm7H_AhWQCt4KHdEiApoQMygVegUIARDsAQ..i&imgrefurl=https%3A%2F%2Fwww.psychologytoday.com%2Fintl%2Fblog%2Fthe-everyday-unconscious%2F201908%2Fwhat-winnie-the-pooh-can-teach-us-about-ptsd&docid=sta4Ku1MlU9z_M&w=1528&h=800&q=winnie%20the%20pooh&hl=zh_TW&ved=2ahUKEwi7jNaQm7H_AhWQCt4KHdEiApoQMygVegUIARDsAQ', 'https://www.google.com.tw/imgres?imgurl=http%3A%2F%2Fcdn.shopify.com%2Fs%2Ffiles%2F1%2F0597%2F4540%2F3020%2Fproducts%2FWinnieThePooh_Front.jpg%3Fv%3D1663043473&tbnid=VsMIKW9XNmEG3M&vet=12ahUKEwi7jNaQm7H_AhWQCt4KHdEiApoQMygWegUIARDuAQ..i&imgrefurl=https%3A%2F%2Fbittyboomers.com%2Fproducts%2Fwinnie-the-pooh&docid=nM2Bm8e5SBCT_M&w=3000&h=3000&q=winnie%20the%20pooh&hl=zh_TW&ved=2ahUKEwi7jNaQm7H_AhWQCt4KHdEiApoQMygWegUIARDuAQ', 'https://www.google.com.tw/imgres?imgurl=https%3A%2F%2Fwww.costco.com.tw%2Fmedias%2Fsys_master%2Fimages%2Fh8f%2Fhf3%2F69873255088158.jpg&tbnid=4ikLgUHR8GRZHM&vet=12ahUKEwi7jNaQm7H_AhWQCt4KHdEiApoQMygXegUIARDxAQ..i&imgrefurl=https%3A%2F%2Fwww.costco.com.tw%2FOffice-Supplies-Stationery-Books%2FBooks%2FKids-Books%2FWinnie-the-Pooh-The-Complete-Edition%2Fp%2F174901&docid=G6dThXyaNTwAhM&w=1200&h=1200&q=winnie%20the%20pooh&hl=zh_TW&ved=2ahUKEwi7jNaQm7H_AhWQCt4KHdEiApoQMygXegUIARDxAQ', 'https://www.google.com.tw/imgres?imgurl=https%3A%2F%2Fi.ebayimg.com%2Fimages%2Fg%2FnxYAAOSw9MReJfqT%2Fs-l1600.jpg&tbnid=WYnj_0bpqTVUqM&vet=12ahUKEwi7jNaQm7H_AhWQCt4KHdEiApoQMygZegUIARD6AQ..i&imgrefurl=https%3A%2F%2Fwww.ebay.com%2Fitm%2FWinnie-POOH-Bear-Stuffed-Animal-Pattern-McCalls-Tiger-Piglet-Kangaroo-Tigger-Toy-%2F223804721923%3F_ul%3DIN&docid=9E4V7T0WLUXw8M&w=1363&h=1600&q=winnie%20the%20pooh&hl=zh_TW&ved=2ahUKEwi7jNaQm7H_AhWQCt4KHdEiApoQMygZegUIARD6AQ', 'https://www.google.com.tw/imgres?imgurl=https%3A%2F%2Fupload.wikimedia.org%2Fwikipedia%2Fcommons%2Fthumb%2F4%2F4f%2FWinnie_the_Pooh_%25282011_film%2529_logo.svg%2F1200px-Winnie_the_Pooh_%25282011_film%2529_logo.svg.png&tbnid=6NDkykNFSRYHSM&vet=12ahUKEwi7jNaQm7H_AhWQCt4KHdEiApoQMygaegUIARD9AQ..i&imgrefurl=https%3A%2F%2Fen.wikipedia.org%2Fwiki%2FWinnie_the_Pooh_(franchise)&docid=fBSJLMBhfKBI-M&w=1200&h=740&q=winnie%20the%20pooh&hl=zh_TW&ved=2ahUKEwi7jNaQm7H_AhWQCt4KHdEiApoQMygaegUIARD9AQ', 'https://www.google.com.tw/imgres?imgurl=https%3A%2F%2Fwww.southernliving.com%2Fthmb%2F3j94dvMAmGPEp1zo5Vy6NgOHtz0%3D%2F1500x0%2Ffilters%3Ano_upscale()%3Amax_bytes(150000)%3Astrip_icc()%2FWinnieThePoohTout-02-2000-ab51335deb4b48f9991d4164f8dc1681.jpg&tbnid=kAEspOvjEgFERM&vet=12ahUKEwi7jNaQm7H_AhWQCt4KHdEiApoQMygbegUIARD_AQ..i&imgrefurl=https%3A%2F%2Fwww.southernliving.com%2Fculture%2Ffriendship-quotes-winne-the-pooh&docid=7hrbwf_-kzVYEM&w=1500&h=1000&q=winnie%20the%20pooh&hl=zh_TW&ved=2ahUKEwi7jNaQm7H_AhWQCt4KHdEiApoQMygbegUIARD_AQ', 'https://www.google.com.tw/imgres?imgurl=https%3A%2F%2Fwww.lladro.com%2Fmedia%2Fcatalog%2Fproduct%2F7%2F1%2F71d8738533d6f00e179e49b2b5d02a9429fddedfd3651b2168ee3db8c9f53d50af4b45cd65b8902404f607be05c616389485a00822b95367510caaefa33c6fa3.jpg&tbnid=Kl9YDa6rJXj4gM&vet=12ahUKEwi7jNaQm7H_AhWQCt4KHdEiApoQMygcegUIARCBAg..i&imgrefurl=https%3A%2F%2Fwww.lladro.com%2Fen_us%2Fwinnie-the-pooh-figurine-en-us-01009115.html&docid=Cs2CXPDhaYMQ8M&w=1512&h=2100&q=winnie%20the%20pooh&hl=zh_TW&ved=2ahUKEwi7jNaQm7H_AhWQCt4KHdEiApoQMygcegUIARCBAg', 'https://www.google.com.tw/imgres?imgurl=https%3A%2F%2Fwww.komar.de%2Fmedia%2Fcatalog%2Fproduct%2Fcache%2F5%2Fimage%2F9df78eab33525d08d6e5fb8d27136e95%2F1%2F2%2F12420.jpg&tbnid=Qj9sRrPU5ql6BM&vet=12ahUKEwi7jNaQm7H_AhWQCt4KHdEiApoQMygdegUIARCEAg..i&imgrefurl=https%3A%2F%2Fwww.komar.de%2Fen%2Fwinnie-and-friends-xxl.html&docid=_GdSL45gBHslUM&w=1200&h=2000&q=winnie%20the%20pooh&hl=zh_TW&ved=2ahUKEwi7jNaQm7H_AhWQCt4KHdEiApoQMygdegUIARCEAg', 'https://www.google.com.tw/imgres?imgurl=https%3A%2F%2Fmedia.timeout.com%2Fimages%2F105990175%2Fimage.jpg&tbnid=6wAdU4g9jFvzNM&vet=12ahUKEwi7jNaQm7H_AhWQCt4KHdEiApoQMygeegUIARCGAg..i&imgrefurl=https%3A%2F%2Fwww.timeout.com%2Flondon%2Ftheatre%2Fwinnie-the-pooh-the-musical-review&docid=G3CeWcptGE1WCM&w=3000&h=2039&q=winnie%20the%20pooh&hl=zh_TW&ved=2ahUKEwi7jNaQm7H_AhWQCt4KHdEiApoQMygeegUIARCGAg', 'https://www.google.com.tw/imgres?imgurl=https%3A%2F%2Fwww.steiff.com%2Fimg%2F1800%2F2232%2Fresize%2Fcatalog%2Fproduct%2Fs%2Fo%2Fsoft-cuddly-friends-disney-originals-winnie-puuh-024528-6.jpg&tbnid=deWmXktZ8mFrgM&vet=12ahUKEwi7jNaQm7H_AhWQCt4KHdEiApoQMygfegUIARCIAg..i&imgrefurl=https%3A%2F%2Fwww.steiff.com%2Fen-us%2Fdisney-s-winnie-the-pooh-024528&docid=6_6DUrnwQP-QoM&w=1800&h=1800&q=winnie%20the%20pooh&hl=zh_TW&ved=2ahUKEwi7jNaQm7H_AhWQCt4KHdEiApoQMygfegUIARCIAg', 'https://www.google.com.tw/imgres?imgurl=https%3A%2F%2Fimages.fun.com%2Fproducts%2F84398%2F1-1%2Fwinnie-the-pooh-adult-slippers.jpg&tbnid=ZDXIbJJRJasaoM&vet=12ahUKEwi7jNaQm7H_AhWQCt4KHdEiApoQMyggegUIARCKAg..i&imgrefurl=https%3A%2F%2Fwww.fun.com%2Fwinnie-the-pooh-adult-slipper.html&docid=b3r-nwgTNxKv5M&w=1750&h=2500&q=winnie%20the%20pooh&hl=zh_TW&ved=2ahUKEwi7jNaQm7H_AhWQCt4KHdEiApoQMyggegUIARCKAg', 'https://www.google.com.tw/imgres?imgurl=https%3A%2F%2Fi.ytimg.com%2Fvi%2Fc9fF_BDGxq0%2Fmaxresdefault.jpg&tbnid=NPOtLaqGu96JhM&vet=12ahUKEwi7jNaQm7H_AhWQCt4KHdEiApoQMyghegUIARCNAg..i&imgrefurl=https%3A%2F%2Fwww.youtube.com%2Fwatch%3Fv%3Dc9fF_BDGxq0&docid=wDJMMYYkq3WgUM&w=1280&h=720&q=winnie%20the%20pooh&hl=zh_TW&ved=2ahUKEwi7jNaQm7H_AhWQCt4KHdEiApoQMyghegUIARCNAg', 'https://www.google.com.tw/imgres?imgurl=https%3A%2F%2Fkbimages1-a.akamaihd.net%2F0e592d28-04e4-4659-8781-d3eccf8f3a8a%2F1200%2F1200%2FFalse%2Fwinnie-the-pooh-18.jpg&tbnid=cIxdHEfomnLxCM&vet=12ahUKEwi7jNaQm7H_AhWQCt4KHdEiApoQMygiegUIARCRAg..i&imgrefurl=https%3A%2F%2Fwww.kobo.com%2Ftw%2Fzh%2Faudiobook%2Fwinnie-the-pooh-18&docid=m6kBobjXZiJF_M&w=1200&h=1200&q=winnie%20the%20pooh&hl=zh_TW&ved=2ahUKEwi7jNaQm7H_AhWQCt4KHdEiApoQMygiegUIARCRAg', 'https://www.google.com.tw/imgres?imgurl=https%3A%2F%2Flumiere-a.akamaihd.net%2Fv1%2Fimages%2Fopen-uri20150608-27674-81uuqq_1e60a072.jpeg&tbnid=ftAkNTray3mqRM&vet=12ahUKEwi7jNaQm7H_AhWQCt4KHdEiApoQMygjegUIARCUAg..i&imgrefurl=https%3A%2F%2Fwinniethepooh.disney.com%2Fwinnie-the-pooh&docid=YS4YLQ0djZr4hM&w=1580&h=880&q=winnie%20the%20pooh&hl=zh_TW&ved=2ahUKEwi7jNaQm7H_AhWQCt4KHdEiApoQMygjegUIARCUAg', 'https://www.google.com.tw/imgres?imgurl=https%3A%2F%2Fuk.pandora.net%2Fdw%2Fimage%2Fv2%2FBFCR_PRD%2Fon%2Fdemandware.static%2F-%2FSites-pandora-master-catalog%2Fdefault%2Fdw028f7b3f%2Fproductimages%2Fmain%2F762212C01_RGB.jpg%3Fsw%3D900%26sh%3D900%26sm%3Dfit%26sfrm%3Dpng%26bgcolor%3DF5F5F5&tbnid=G9lpVJL3QlqjIM&vet=12ahUKEwi7jNaQm7H_AhWQCt4KHdEiApoQMygkegUIARCWAg..i&imgrefurl=https%3A%2F%2Fuk.pandora.net%2Fen%2Fcharms-bracelets%2Fcharms%2Fcharms%2Fdisney-winnie-the-pooh-bear-charm%2F762212C01.html&docid=FMy3e8GqYDoDJM&w=900&h=900&q=winnie%20the%20pooh&hl=zh_TW&ved=2ahUKEwi7jNaQm7H_AhWQCt4KHdEiApoQMygkegUIARCWAg', 'https://www.google.com.tw/imgres?imgurl=https%3A%2F%2Fupload.wikimedia.org%2Fwikipedia%2Fcommons%2Fb%2Fb5%2FXinnie_the_Pooh.png&tbnid=Ju8B66y-WhPQqM&vet=12ahUKEwi7jNaQm7H_AhWQCt4KHdEiApoQMyglegUIARCZAg..i&imgrefurl=https%3A%2F%2Fzh.wikipedia.org%2Fzh-hant%2FFile%3AXinnie_the_Pooh.png&docid=zKZd600syT8UXM&w=1024&h=1024&q=winnie%20the%20pooh&hl=zh_TW&ved=2ahUKEwi7jNaQm7H_AhWQCt4KHdEiApoQMyglegUIARCZAg', 'https://www.google.com.tw/imgres?imgurl=https%3A%2F%2Fstatic.standard.co.uk%2Fs3fs-public%2Fthumbnails%2Fimage%2F2018%2F01%2F18%2F13%2Fwinniepooh1801a.jpg%3Fwidth%3D1200%26auto%3Dwebp%26quality%3D75&tbnid=NvL5iTchWymicM&vet=12ahUKEwi7jNaQm7H_AhWQCt4KHdEiApoQMygmegUIARCbAg..i&imgrefurl=https%3A%2F%2Fwww.standard.co.uk%2Flifestyle%2Flondon-life%2Fwinnie-the-pooh-day-when-quotes-facts-aa-milne-childrens-books-a4042716.html&docid=jie3IWiWVyQHtM&w=1200&h=800&q=winnie%20the%20pooh&hl=zh_TW&ved=2ahUKEwi7jNaQm7H_AhWQCt4KHdEiApoQMygmegUIARCbAg', 'https://www.google.com.tw/imgres?imgurl=https%3A%2F%2Fm.media-amazon.com%2Fimages%2FI%2F91iup2krj3L._AC_UF1000%2C1000_QL80_.jpg&tbnid=gkXbhQX77RywJM&vet=12ahUKEwi7jNaQm7H_AhWQCt4KHdEiApoQMygnegUIARCdAg..i&imgrefurl=https%3A%2F%2Fwww.amazon.com%2FDisney-Winnie-Pooh-Classic-Books%2Fdp%2F2764354479&docid=ulUIbonf9vDMFM&w=1000&h=1000&q=winnie%20the%20pooh&hl=zh_TW&ved=2ahUKEwi7jNaQm7H_AhWQCt4KHdEiApoQMygnegUIARCdAg', 'https://www.google.com.tw/imgres?imgurl=https%3A%2F%2Fd.newsweek.com%2Fen%2Ffull%2F2045955%2Fwinnie-pooh-horror-movie.jpg%3Fw%3D1600%26h%3D1600%26q%3D88%26f%3D51ec935c03b99f0189fbd5e16a90bbe1&tbnid=POC9-NXzOetsAM&vet=12ahUKEwi7jNaQm7H_AhWQCt4KHdEiApoQMygoegUIARCgAg..i&imgrefurl=https%3A%2F%2Fwww.newsweek.com%2Fwinnie-pooh-horror-movie-blood-honey-release-date-1710345&docid=jsexerSApQsvNM&w=1600&h=1600&q=winnie%20the%20pooh&hl=zh_TW&ved=2ahUKEwi7jNaQm7H_AhWQCt4KHdEiApoQMygoegUIARCgAg', 'https://www.google.com.tw/imgres?imgurl=https%3A%2F%2Fwww.reuters.com%2Fresizer%2FipfQ9l3vDZjnNA_6_mtKEKbXLjE%3D%2F1200x1200%2Fsmart%2Ffilters%3Aquality(80)%2Fcloudfront-us-east-2.images.arcpublishing.com%2Freuters%2FAE7UHWRNQZLCTJLYL6RNQI6PHI.jpg&tbnid=G8hS9JLOkKlKWM&vet=12ahUKEwi7jNaQm7H_AhWQCt4KHdEiApoQMygpegUIARCiAg..i&imgrefurl=https%3A%2F%2Fwww.reuters.com%2Flifestyle%2Fscreening-winnie-pooh-horror-film-cancelled-hong-kong-2023-03-21%2F&docid=_cgdBSY2qqptUM&w=1200&h=1200&q=winnie%20the%20pooh&hl=zh_TW&ved=2ahUKEwi7jNaQm7H_AhWQCt4KHdEiApoQMygpegUIARCiAg', 'https://www.google.com.tw/imgres?imgurl=https%3A%2F%2Fcdn.britannica.com%2F53%2F166453-050-B06FD34C%2FWinnie-the-Pooh-illustration-Piglet-EH-Shepard.jpg&tbnid=O8LBoaVKjE_SZM&vet=12ahUKEwi7jNaQm7H_AhWQCt4KHdEiApoQMygqegUIARCkAg..i&imgrefurl=https%3A%2F%2Fwww.britannica.com%2Ftopic%2FWinnie-the-Pooh-childrens-stories-by-Milne&docid=671KhGEASAeJPM&w=1166&h=1600&q=winnie%20the%20pooh&hl=zh_TW&ved=2ahUKEwi7jNaQm7H_AhWQCt4KHdEiApoQMygqegUIARCkAg', 'https://www.google.com.tw/imgres?imgurl=https%3A%2F%2Fimages.squarespace-cdn.com%2Fcontent%2Fv1%2F58520a4e37c58186144df0cf%2F2e4bed58-ada5-41ee-8840-9914542a1793%2Fmany-adventures-winnie-the-pooh-05.jpg&tbnid=UcNR0V1D4lm-CM&vet=12ahUKEwi7jNaQm7H_AhWQCt4KHdEiApoQMygregUIARCmAg..i&imgrefurl=https%3A%2F%2Fwww.mousehacking.com%2Frides%2Fguide-to-many-adventures-of-winnie-the-pooh-at-magic-kingdom&docid=d36FtOMqxPfUFM&w=1891&h=1355&q=winnie%20the%20pooh&hl=zh_TW&ved=2ahUKEwi7jNaQm7H_AhWQCt4KHdEiApoQMygregUIARCmAg', 'https://www.google.com.tw/imgres?imgurl=https%3A%2F%2Fapi.time.com%2Fwp-content%2Fuploads%2F2023%2F02%2FWinnie-the-Pooh-Blood-and-Honey.png&tbnid=7nMNTmcFZp_jpM&vet=12ahUKEwi7jNaQm7H_AhWQCt4KHdEiApoQMygsegUIARCoAg..i&imgrefurl=https%3A%2F%2Ftime.com%2F6253876%2Fwinnie-the-pooh-blood-and-honey-backstory%2F&docid=hGbME6ma-zcb2M&w=1080&h=786&q=winnie%20the%20pooh&hl=zh_TW&ved=2ahUKEwi7jNaQm7H_AhWQCt4KHdEiApoQMygsegUIARCoAg', 'https://www.google.com.tw/imgres?imgurl=https%3A%2F%2Fwww.blumenthalarts.org%2Fassets%2Fimg%2FWinnieThePooh_1440x1440-fb3f4fdcf3.jpg&tbnid=D8XB89xPP_ssgM&vet=12ahUKEwi7jNaQm7H_AhWQCt4KHdEiApoQMygtegUIARCqAg..i&imgrefurl=https%3A%2F%2Fwww.carolinatix.org%2Fevents%2Fdetail%2Fdisneys-winnie-the-pooh-the-new-musical-stage-adaptation&docid=Br2vBYHnMukbtM&w=1440&h=1440&q=winnie%20the%20pooh&hl=zh_TW&ved=2ahUKEwi7jNaQm7H_AhWQCt4KHdEiApoQMygtegUIARCqAg', 'https://www.google.com.tw/imgres?imgurl=http%3A%2F%2Fcdn.shopify.com%2Fs%2Ffiles%2F1%2F0417%2F6360%2F2586%2Fproducts%2Fimage_a52bcdbe-af40-4335-9ec4-948711bedad8_1200x1200.png%3Fv%3D1626433468&tbnid=esQ3jUqL23jduM&vet=12ahUKEwi7jNaQm7H_AhWQCt4KHdEiApoQMyguegUIARCsAg..i&imgrefurl=https%3A%2F%2Fgingerbreadfox.co.uk%2Fproducts%2Fwinnie-the-pooh&docid=6-U2ume7ByO8xM&w=1200&h=900&q=winnie%20the%20pooh&hl=zh_TW&ved=2ahUKEwi7jNaQm7H_AhWQCt4KHdEiApoQMyguegUIARCsAg', 'https://www.google.com.tw/imgres?imgurl=https%3A%2F%2Fkbimages1-a.akamaihd.net%2Fefc06fbd-3f70-4737-b169-009c0534ad1f%2F1200%2F1200%2FFalse%2Fwinnie-the-pooh-forever-friends.jpg&tbnid=_UsTsrnVBiJQDM&vet=12ahUKEwi7jNaQm7H_AhWQCt4KHdEiApoQMygvegUIARCvAg..i&imgrefurl=https%3A%2F%2Fwww.kobo.com%2Ftw%2Fzh%2Febook%2Fwinnie-the-pooh-forever-friends&docid=5JmaF68IKkv6zM&w=1200&h=1800&itg=1&q=winnie%20the%20pooh&hl=zh_TW&ved=2ahUKEwi7jNaQm7H_AhWQCt4KHdEiApoQMygvegUIARCvAg', 'https://www.google.com.tw/imgres?imgurl=https%3A%2F%2Fm.media-amazon.com%2Fimages%2FM%2FMV5BZDdhNDdlM2UtOWE5Yy00OGVlLTkxMmItOTllMDZmMGI5MmEyXkEyXkFqcGdeQXVyOTc5MDI5NjE%40._V1_.jpg&tbnid=9ZNMl6Rr91rrNM&vet=12ahUKEwi7jNaQm7H_AhWQCt4KHdEiApoQMygwegUIARCyAg..i&imgrefurl=https%3A%2F%2Fwww.imdb.com%2Ftitle%2Ftt0072410%2F&docid=u1NbAGkVPdS1kM&w=1792&h=1080&q=winnie%20the%20pooh&hl=zh_TW&ved=2ahUKEwi7jNaQm7H_AhWQCt4KHdEiApoQMygwegUIARCyAg']\n"
     ]
    }
   ],
   "source": [
    "#piclist = driver.find_elements(By.XPATH,'//*[@class=\"bRMDJf islir\"]') #find elements---list\n",
    "#for every in piclist:\n",
    "    #every.click()\n",
    "\n",
    "import time\n",
    "smallpic = driver.find_elements(By.CLASS_NAME,\"wXeWr\")\n",
    "href = []\n",
    "\n",
    "for img in smallpic:\n",
    "    img.click()\n",
    "    href.append(img.get_attribute(\"href\"))\n",
    "    \n",
    "print(href)"
   ]
  },
  {
   "cell_type": "code",
   "execution_count": 3,
   "id": "7615aa11",
   "metadata": {},
   "outputs": [
    {
     "name": "stdout",
     "output_type": "stream",
     "text": [
      "['https://static.wikia.nocookie.net/p__/images/6/6e/Winnie_The_Pooh.png/revision/latest?cb=20190922201041&path-prefix=protagonist', 'https://cdn.shopify.com/s/files/1/0598/4085/6273/collections/Pooh.png?v=1662823655', 'https://www.rd.com/wp-content/uploads/2020/01/shutterstock_247528582-2-copy-scaled.jpg', 'https://lumiere-a.akamaihd.net/v1/images/uk_winnie-the-pooh_hero-banner_r_09ed008d.jpeg?region=0,0,3200,1366', 'https://i.ytimg.com/vi/ACjLq_tyaqo/maxresdefault.jpg', 'https://people.com/thmb/et3_imOkc0bUiShIGpFJMKebK70=/1500x0/filters:no_upscale():max_bytes(150000):strip_icc():focal(999x0:1001x2)/winnie-the-pooh-3-3ab9d3a3f4464722933f4fa12fec1fa5.jpg', 'https://static.wikia.nocookie.net/tmnt/images/1/11/Winnie_Pooh.jpg/revision/latest?cb=20140826022503', 'https://www.alysstephens.org/assets/2022/05/Winnie-the-Pooh-Web-Art-5.3.22-scaled.jpg', 'https://www.bigw.com.au/medias/sys_master/images/images/h60/h04/34788746887198.jpg', 'https://books.disney.com/content/uploads/2021/07/1368072119.jpg']\n"
     ]
    }
   ],
   "source": [
    "src = []\n",
    "for bigpic in href[:10]:\n",
    "    driver.get(bigpic)\n",
    "    time.sleep(2)\n",
    "    #link = driver.find_element(By.XPATH,'//img[@jsaction=\"VQAsE\"]')\n",
    "    link = driver.find_element(By.CLASS_NAME,\"r48jcc\")\n",
    "    src.append(link.get_attribute(\"src\"))\n",
    "\n",
    "print(src)\n",
    "\n",
    "    \n"
   ]
  },
  {
   "cell_type": "code",
   "execution_count": 25,
   "id": "fbadd6d2",
   "metadata": {},
   "outputs": [
    {
     "name": "stdout",
     "output_type": "stream",
     "text": [
      "C:\\Users\\user\\Desktop\\google\\PIC\n"
     ]
    }
   ],
   "source": [
    "import os\n",
    "newfile1 ='/Users/user/Desktop/PIC'\n",
    "os.mkdir(newfile1)#創資料夾\n",
    "#os.rmdir(path)#刪資料夾\n",
    "path1= os.getcwd() #取得目前存檔位置\n",
    "path1= os.path.join(path1,\"PIC\") #在目前存檔位置後新增路徑名稱\"檔案名稱\"\n",
    "print(path1)"
   ]
  },
  {
   "cell_type": "code",
   "execution_count": 30,
   "id": "d0758c35",
   "metadata": {},
   "outputs": [
    {
     "name": "stdout",
     "output_type": "stream",
     "text": [
      "Collecting wget\n",
      "  Downloading wget-3.2.zip (10 kB)\n",
      "  Preparing metadata (setup.py): started\n",
      "  Preparing metadata (setup.py): finished with status 'done'\n",
      "Building wheels for collected packages: wget\n",
      "  Building wheel for wget (setup.py): started\n",
      "  Building wheel for wget (setup.py): finished with status 'done'\n",
      "  Created wheel for wget: filename=wget-3.2-py3-none-any.whl size=9680 sha256=2fcfbd2bee5567a9991e75da737efdeb8088673ac93a2fd12caceac694f1e3cb\n",
      "  Stored in directory: c:\\users\\user\\appdata\\local\\pip\\cache\\wheels\\46\\78\\0e\\8e5e2b500f83a682c8d7e7ce820638cf99faa894a662f71cf0\n",
      "Successfully built wget\n",
      "Installing collected packages: wget\n",
      "Successfully installed wget-3.2\n"
     ]
    }
   ],
   "source": [
    "!pip3 install wget\n",
    "import wget\n"
   ]
  },
  {
   "cell_type": "code",
   "execution_count": 32,
   "id": "90fb3484",
   "metadata": {},
   "outputs": [
    {
     "data": {
      "text/plain": [
       "'/Users/user/Desktop/PIC\\\\1.jpg'"
      ]
     },
     "execution_count": 32,
     "metadata": {},
     "output_type": "execute_result"
    }
   ],
   "source": [
    "#存檔\n",
    "import wget\n",
    "save_as=os.path.join(newfile1,\"1.jpg\")\n",
    "wget.download(src[0],save_as)"
   ]
  },
  {
   "cell_type": "code",
   "execution_count": 33,
   "id": "95753b24",
   "metadata": {},
   "outputs": [],
   "source": [
    "#全部存檔\n",
    "imgnum=0\n",
    "for Src in src:\n",
    "    try:\n",
    "        imgnum+=1\n",
    "        save_as = os.path.join(newfile1,str(imgnum)+\".jpg\")\n",
    "        wget.download(Src,save_as)\n",
    "    except:\n",
    "        pass"
   ]
  }
 ],
 "metadata": {
  "kernelspec": {
   "display_name": "Python 3 (ipykernel)",
   "language": "python",
   "name": "python3"
  },
  "language_info": {
   "codemirror_mode": {
    "name": "ipython",
    "version": 3
   },
   "file_extension": ".py",
   "mimetype": "text/x-python",
   "name": "python",
   "nbconvert_exporter": "python",
   "pygments_lexer": "ipython3",
   "version": "3.10.9"
  }
 },
 "nbformat": 4,
 "nbformat_minor": 5
}
