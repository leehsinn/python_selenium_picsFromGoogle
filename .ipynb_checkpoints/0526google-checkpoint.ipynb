{
 "cells": [
  {
   "cell_type": "code",
   "execution_count": 15,
   "id": "e4907615",
   "metadata": {},
   "outputs": [
    {
     "name": "stderr",
     "output_type": "stream",
     "text": [
      "C:\\Users\\user\\AppData\\Local\\Temp\\ipykernel_165008\\3488790170.py:7: DeprecationWarning: executable_path has been deprecated, please pass in a Service object\n",
      "  driver = webdriver.Chrome(\"C:\\\\Users\\\\user\\\\chromedriver.exe\")\n"
     ]
    }
   ],
   "source": [
    "from selenium import webdriver \n",
    "from selenium.webdriver.common.by import By\n",
    "from selenium.webdriver.support.wait import WebDriverWait\n",
    "from selenium.webdriver.support import expected_conditions as EC\n",
    "from selenium.webdriver.chrome.options import Options\n",
    "\n",
    "driver = webdriver.Chrome(\"C:\\\\Users\\\\user\\\\chromedriver.exe\")\n",
    "driver.get(\"https://www.google.com.tw/?hl=zh_TW\")\n",
    "\n",
    "search = WebDriverWait(driver,10).until(EC.element_to_be_clickable((By.CSS_SELECTOR,\"textarea[class='gLFyf']\")))\n",
    "search.send_keys(\"winnie the pooh\")\n",
    "\n",
    "go = driver.find_element(By.CSS_SELECTOR,\"input[class='gNO89b']\")\n",
    "go.click()\n",
    "\n",
    "#//:任意位置查詢  /:下一階段查詢\n",
    "#*任意字元/字串 @搜尋屬性[@attr_name=attr_value]\n",
    "\n",
    "driver.find_element(By.XPATH,'//*[text()=\"圖片\"]').click()\n",
    "\n",
    "tool = WebDriverWait(driver,10).until(EC.element_to_be_clickable((By.CSS_SELECTOR,\"div[class='PNyWAd ZXJQ7c']\")))\n",
    "tool.click()\n",
    "driver.find_element(By.XPATH,'//*[text()=\"大小\"]').click()\n",
    "driver.find_element(By.XPATH,'//*[text()=\"大\"]').click()\n",
    "\n"
   ]
  },
  {
   "cell_type": "code",
   "execution_count": 16,
   "id": "7b2391bd",
   "metadata": {},
   "outputs": [
    {
     "name": "stdout",
     "output_type": "stream",
     "text": [
      "['https://www.google.com.tw/imgres?imgurl=https%3A%2F%2Fstatic.wikia.nocookie.net%2Fp__%2Fimages%2F6%2F6e%2FWinnie_The_Pooh.png%2Frevision%2Flatest%3Fcb%3D20190922201041%26path-prefix%3Dprotagonist&tbnid=SOux_zd5JFDrPM&vet=12ahUKEwjgx4_Vupz_AhWSr1YBHZWpA4cQMygAegUIARC_AQ..i&imgrefurl=https%3A%2F%2Fhero.fandom.com%2Fwiki%2FWinnie_the_Pooh_(Disney)&docid=9SAcLnGrVu3PSM&w=887&h=1536&q=winnie%20the%20pooh&hl=zh_TW&ved=2ahUKEwjgx4_Vupz_AhWSr1YBHZWpA4cQMygAegUIARC_AQ', 'https://www.google.com.tw/imgres?imgurl=http%3A%2F%2Fcdn.shopify.com%2Fs%2Ffiles%2F1%2F0598%2F4085%2F6273%2Fcollections%2FPooh.png%3Fv%3D1662823655&tbnid=snKYFNoe0cogsM&vet=12ahUKEwjgx4_Vupz_AhWSr1YBHZWpA4cQMygBegUIARDBAQ..i&imgrefurl=https%3A%2F%2Fmorisawahk.com%2Fcollections%2Fwinnie-the-pooh%25E5%25B0%258F%25E7%2586%258A%25E7%25B6%25AD%25E5%25B0%25BC&docid=YmtGiACYMb0UxM&w=1417&h=1449&q=winnie%20the%20pooh&hl=zh_TW&ved=2ahUKEwjgx4_Vupz_AhWSr1YBHZWpA4cQMygBegUIARDBAQ', 'https://www.google.com.tw/imgres?imgurl=https%3A%2F%2Flumiere-a.akamaihd.net%2Fv1%2Fimages%2Fuk_winnie-the-pooh_hero-banner_r_09ed008d.jpeg%3Fregion%3D0%2C0%2C3200%2C1366&tbnid=BwL7W0L35rtZFM&vet=12ahUKEwjgx4_Vupz_AhWSr1YBHZWpA4cQMygCegUIARDDAQ..i&imgrefurl=https%3A%2F%2Fwww.disneytickets.co.uk%2Fwinnie-the-pooh-musical-tickets&docid=4MuIDwYLH4RwSM&w=3200&h=1366&q=winnie%20the%20pooh&hl=zh_TW&ved=2ahUKEwjgx4_Vupz_AhWSr1YBHZWpA4cQMygCegUIARDDAQ', 'https://www.google.com.tw/imgres?imgurl=https%3A%2F%2Fwww.rd.com%2Fwp-content%2Fuploads%2F2020%2F01%2Fshutterstock_247528582-2-copy-scaled.jpg&tbnid=Hiq7vIjkPycTVM&vet=12ahUKEwjgx4_Vupz_AhWSr1YBHZWpA4cQMygDegUIARDFAQ..i&imgrefurl=https%3A%2F%2Fwww.rd.com%2Farticle%2Ffacts-about-winnie-the-pooh%2F&docid=rrF-5qfd7ySZrM&w=2560&h=1706&q=winnie%20the%20pooh&hl=zh_TW&ved=2ahUKEwjgx4_Vupz_AhWSr1YBHZWpA4cQMygDegUIARDFAQ', 'https://www.google.com.tw/imgres?imgurl=https%3A%2F%2Fpeople.com%2Fthmb%2Fet3_imOkc0bUiShIGpFJMKebK70%3D%2F1500x0%2Ffilters%3Ano_upscale()%3Amax_bytes(150000)%3Astrip_icc()%3Afocal(999x0%3A1001x2)%2Fwinnie-the-pooh-3-3ab9d3a3f4464722933f4fa12fec1fa5.jpg&tbnid=qRT7Ny_Du8XHJM&vet=12ahUKEwjgx4_Vupz_AhWSr1YBHZWpA4cQMygEegUIARDHAQ..i&imgrefurl=https%3A%2F%2Fpeople.com%2Fbooks%2Fwinnie-the-pooh-day-book-history%2F&docid=wqIDgfuW5IDfNM&w=1500&h=1000&q=winnie%20the%20pooh&hl=zh_TW&ved=2ahUKEwjgx4_Vupz_AhWSr1YBHZWpA4cQMygEegUIARDHAQ', 'https://www.google.com.tw/imgres?imgurl=https%3A%2F%2Fi.ytimg.com%2Fvi%2FACjLq_tyaqo%2Fmaxresdefault.jpg&tbnid=79AhKJAVeR0m8M&vet=12ahUKEwjgx4_Vupz_AhWSr1YBHZWpA4cQMygFegUIARDJAQ..i&imgrefurl=https%3A%2F%2Fwww.youtube.com%2Fwatch%3Fv%3DACjLq_tyaqo&docid=OEhzTSjxZO8GGM&w=1280&h=720&q=winnie%20the%20pooh&hl=zh_TW&ved=2ahUKEwjgx4_Vupz_AhWSr1YBHZWpA4cQMygFegUIARDJAQ', 'https://www.google.com.tw/imgres?imgurl=https%3A%2F%2Fstatic.wikia.nocookie.net%2Ftmnt%2Fimages%2F1%2F11%2FWinnie_Pooh.jpg%2Frevision%2Flatest%3Fcb%3D20140826022503&tbnid=1fNuIYOLnEulEM&vet=12ahUKEwjgx4_Vupz_AhWSr1YBHZWpA4cQMygGegUIARDNAQ..i&imgrefurl=https%3A%2F%2Fturtlepedia.fandom.com%2Fwiki%2FWinnie-the-Pooh&docid=uX6med250ZgSJM&w=2000&h=2000&q=winnie%20the%20pooh&hl=zh_TW&ved=2ahUKEwjgx4_Vupz_AhWSr1YBHZWpA4cQMygGegUIARDNAQ', 'https://www.google.com.tw/imgres?imgurl=http%3A%2F%2Fbooks.disney.com%2Fcontent%2Fuploads%2F2021%2F07%2F1368072119.jpg&tbnid=SMPFBNQKXZcFWM&vet=12ahUKEwjgx4_Vupz_AhWSr1YBHZWpA4cQMygHegUIARDPAQ..i&imgrefurl=https%3A%2F%2Fbooks.disney.com%2Fbook%2Fhello-winnie-the-pooh%2F&docid=SnJWCT14Cdop2M&w=2244&h=2246&q=winnie%20the%20pooh&hl=zh_TW&ved=2ahUKEwjgx4_Vupz_AhWSr1YBHZWpA4cQMygHegUIARDPAQ', 'https://www.google.com.tw/imgres?imgurl=https%3A%2F%2Fmedia.wired.com%2Fphotos%2F64274f34b388debed65f7898%2Fmaster%2Fw_2560%252Cc_limit%2FPooh-Blood-And-Honey-Culture.jpg&tbnid=aW_C3vrunUrNFM&vet=12ahUKEwjgx4_Vupz_AhWSr1YBHZWpA4cQMygIegUIARDRAQ..i&imgrefurl=https%3A%2F%2Fwww.wired.com%2Fstory%2Fwinnie-the-pooh-blood-and-honey-copyright-fair-use%2F&docid=j6yccNuRx2wOIM&w=1419&h=798&q=winnie%20the%20pooh&hl=zh_TW&ved=2ahUKEwjgx4_Vupz_AhWSr1YBHZWpA4cQMygIegUIARDRAQ', 'https://www.google.com.tw/imgres?imgurl=https%3A%2F%2Fwww.alysstephens.org%2Fassets%2F2022%2F05%2FWinnie-the-Pooh-Web-Art-5.3.22-1190x680.jpg&tbnid=ouX8oqfJNePNbM&vet=12ahUKEwjgx4_Vupz_AhWSr1YBHZWpA4cQMygJegUIARDTAQ..i&imgrefurl=https%3A%2F%2Fwww.alysstephens.org%2Fevents%2Fwinnie%2F&docid=Fewf_00NPnF4bM&w=1190&h=680&q=winnie%20the%20pooh&hl=zh_TW&ved=2ahUKEwjgx4_Vupz_AhWSr1YBHZWpA4cQMygJegUIARDTAQ', 'https://www.google.com.tw/imgres?imgurl=https%3A%2F%2Fwww.bigw.com.au%2Fmedias%2Fsys_master%2Fimages%2Fimages%2Fh60%2Fh04%2F34788746887198.jpg&tbnid=RZfIqKdCsyOYXM&vet=12ahUKEwjgx4_Vupz_AhWSr1YBHZWpA4cQMygKegUIARDVAQ..i&imgrefurl=https%3A%2F%2Fwww.bigw.com.au%2Fproduct%2Fdisney-100-limited-edition-movie-collection-winnie-the-pooh%2Fp%2F268333&docid=nVETI8ieKV1usM&w=900&h=900&q=winnie%20the%20pooh&hl=zh_TW&ved=2ahUKEwjgx4_Vupz_AhWSr1YBHZWpA4cQMygKegUIARDVAQ', 'https://www.google.com.tw/imgres?imgurl=https%3A%2F%2Fstatic.independent.co.uk%2Fs3fs-public%2Fthumbnails%2Fimage%2F2014%2F11%2F20%2F10%2Fwinnie-the-pooh.jpg&tbnid=iS4RX4Qbbs5zpM&vet=12ahUKEwjgx4_Vupz_AhWSr1YBHZWpA4cQMygLegUIARDYAQ..i&imgrefurl=https%3A%2F%2Fwww.independent.co.uk%2Farts-entertainment%2Fbooks%2Fnews%2Fwinnie-the-pooh-banned-from-polish-playground-for-being-an-inappropriate-hermaphrodite-9872278.html&docid=XlN8T-99KTjlWM&w=2048&h=1536&q=winnie%20the%20pooh&hl=zh_TW&ved=2ahUKEwjgx4_Vupz_AhWSr1YBHZWpA4cQMygLegUIARDYAQ', 'https://www.google.com.tw/imgres?imgurl=https%3A%2F%2Fcdn.britannica.com%2F24%2F213924-050-93FA0392%2FTelevision-publicity-still-Owl-Christopher-Robin-Kanga-Tigger-Eeyore-Winnie-the-Pooh-Piglet-1988.jpg&tbnid=zrvPFaQMh1Uj9M&vet=12ahUKEwjgx4_Vupz_AhWSr1YBHZWpA4cQMygMegUIARDaAQ..i&imgrefurl=https%3A%2F%2Fwww.britannica.com%2Ftopic%2FChristopher-Robin&docid=A9Z9YRvRRuEihM&w=1600&h=1032&q=winnie%20the%20pooh&hl=zh_TW&ved=2ahUKEwjgx4_Vupz_AhWSr1YBHZWpA4cQMygMegUIARDaAQ', 'https://www.google.com.tw/imgres?imgurl=https%3A%2F%2Fexeternorthcott.co.uk%2Fwp-content%2Fuploads%2F2022%2F11%2FWTP-1920x1080ANEWADVENTURE.jpg&tbnid=mdkrbch_myvg4M&vet=12ahUKEwjgx4_Vupz_AhWSr1YBHZWpA4cQMygNegUIARDcAQ..i&imgrefurl=https%3A%2F%2Fexeternorthcott.co.uk%2Fevents%2Fdisneys-winnie-the-pooh%2F&docid=rUanItq2utFrAM&w=1920&h=1080&q=winnie%20the%20pooh&hl=zh_TW&ved=2ahUKEwjgx4_Vupz_AhWSr1YBHZWpA4cQMygNegUIARDcAQ', 'https://www.google.com.tw/imgres?imgurl=https%3A%2F%2Fimages.fineartamerica.com%2Fimages%2Fartworkimages%2Fmediumlarge%2F3%2Fwinnie-the-pooh-william-smith.jpg&tbnid=Ho_0CJ6alDjhJM&vet=12ahUKEwjgx4_Vupz_AhWSr1YBHZWpA4cQMygOegUIARDeAQ..i&imgrefurl=https%3A%2F%2Fpixels.com%2Ffeatured%2Fwinnie-the-pooh-william-smith.html&docid=jPO-uBUezVTrAM&w=900&h=900&q=winnie%20the%20pooh&hl=zh_TW&ved=2ahUKEwjgx4_Vupz_AhWSr1YBHZWpA4cQMygOegUIARDeAQ', 'https://www.google.com.tw/imgres?imgurl=http%3A%2F%2Fcdn.shopify.com%2Fs%2Ffiles%2F1%2F0403%2F5431%2F6439%2Fproducts%2FTonies-PDP-Assets-Winnie-The-Pooh-Single.jpg%3Fv%3D1626375585&tbnid=RKBYClEvDTNBtM&vet=12ahUKEwjgx4_Vupz_AhWSr1YBHZWpA4cQMygPegUIARDhAQ..i&imgrefurl=https%3A%2F%2Fus.tonies.com%2Fproducts%2Fwinnie-the-pooh&docid=n-dvLdp6gKmrGM&w=1200&h=1200&q=winnie%20the%20pooh&hl=zh_TW&ved=2ahUKEwjgx4_Vupz_AhWSr1YBHZWpA4cQMygPegUIARDhAQ', 'https://www.google.com.tw/imgres?imgurl=https%3A%2F%2Fupload.wikimedia.org%2Fwikipedia%2Fcommons%2Fthumb%2F4%2F4f%2FWinnie_the_Pooh_%25282011_film%2529_logo.svg%2F1200px-Winnie_the_Pooh_%25282011_film%2529_logo.svg.png&tbnid=6NDkykNFSRYHSM&vet=12ahUKEwjgx4_Vupz_AhWSr1YBHZWpA4cQMygQegUIARDkAQ..i&imgrefurl=https%3A%2F%2Fen.wikipedia.org%2Fwiki%2FWinnie_the_Pooh_(franchise)&docid=fBSJLMBhfKBI-M&w=1200&h=740&q=winnie%20the%20pooh&hl=zh_TW&ved=2ahUKEwjgx4_Vupz_AhWSr1YBHZWpA4cQMygQegUIARDkAQ', 'https://www.google.com.tw/imgres?imgurl=https%3A%2F%2Fcdn.shopify.com%2Fs%2Ffiles%2F1%2F2782%2F2542%2Fproducts%2FSugartess_Pooh_Head.png%3Fv%3D1624294877&tbnid=53MMYgRKwk4sFM&vet=12ahUKEwjgx4_Vupz_AhWSr1YBHZWpA4cQMygRegUIARDmAQ..i&imgrefurl=https%3A%2F%2Fsugartess.com%2Fproducts%2Fwinnie-the-pooh-bear-head&docid=_R4CUP1IqCWrIM&w=2000&h=2000&q=winnie%20the%20pooh&hl=zh_TW&ved=2ahUKEwjgx4_Vupz_AhWSr1YBHZWpA4cQMygRegUIARDmAQ', 'https://www.google.com.tw/imgres?imgurl=https%3A%2F%2Flumiere-a.akamaihd.net%2Fv1%2Fimages%2Fopen-uri20150608-27674-81uuqq_1e60a072.jpeg&tbnid=ftAkNTray3mqRM&vet=12ahUKEwjgx4_Vupz_AhWSr1YBHZWpA4cQMygSegUIARDpAQ..i&imgrefurl=https%3A%2F%2Fwinniethepooh.disney.com%2Fwinnie-the-pooh&docid=YS4YLQ0djZr4hM&w=1580&h=880&q=winnie%20the%20pooh&hl=zh_TW&ved=2ahUKEwjgx4_Vupz_AhWSr1YBHZWpA4cQMygSegUIARDpAQ', 'https://www.google.com.tw/imgres?imgurl=https%3A%2F%2Fstatic.wikia.nocookie.net%2Fdisney%2Fimages%2F0%2F03%2FProfile_-_Winnie_the_Pooh.png%2Frevision%2Flatest%3Fcb%3D20200510194837&tbnid=BL0TCTGIodmG5M&vet=12ahUKEwjgx4_Vupz_AhWSr1YBHZWpA4cQMygTegUIARDrAQ..i&imgrefurl=https%3A%2F%2Fdisney.fandom.com%2Fwiki%2FWinnie_the_Pooh&docid=QK8yhQMBddEF-M&w=1035&h=1035&q=winnie%20the%20pooh&hl=zh_TW&ved=2ahUKEwjgx4_Vupz_AhWSr1YBHZWpA4cQMygTegUIARDrAQ', 'https://www.google.com.tw/imgres?imgurl=https%3A%2F%2Fapi.time.com%2Fwp-content%2Fuploads%2F2023%2F02%2FWinnie-the-Pooh-Blood-and-Honey.png&tbnid=7nMNTmcFZp_jpM&vet=12ahUKEwjgx4_Vupz_AhWSr1YBHZWpA4cQMygUegUIARDtAQ..i&imgrefurl=https%3A%2F%2Ftime.com%2F6253876%2Fwinnie-the-pooh-blood-and-honey-backstory%2F&docid=hGbME6ma-zcb2M&w=1080&h=786&q=winnie%20the%20pooh&hl=zh_TW&ved=2ahUKEwjgx4_Vupz_AhWSr1YBHZWpA4cQMygUegUIARDtAQ', 'https://www.google.com.tw/imgres?imgurl=https%3A%2F%2Fwww.the-sun.com%2Fwp-content%2Fuploads%2Fsites%2F6%2F2023%2F01%2FEP_WINNIE_POOH_TEST_EXPL_OFFPLATFORM.jpg%3Fstrip%3Dall%26quality%3D100%26w%3D1620%26h%3D1080%26crop%3D1&tbnid=qJogHupYXDE_7M&vet=12ahUKEwjgx4_Vupz_AhWSr1YBHZWpA4cQMygVegUIARDvAQ..i&imgrefurl=https%3A%2F%2Fwww.the-sun.com%2Ftech%2F7232855%2Fwhat-is-the-winnie-the-pooh-test-on-tiktok%2F&docid=snd1i-4VNEYcrM&w=1620&h=1080&q=winnie%20the%20pooh&hl=zh_TW&ved=2ahUKEwjgx4_Vupz_AhWSr1YBHZWpA4cQMygVegUIARDvAQ', 'https://www.google.com.tw/imgres?imgurl=https%3A%2F%2Fmedia.timeout.com%2Fimages%2F105990175%2Fimage.jpg&tbnid=6wAdU4g9jFvzNM&vet=12ahUKEwjgx4_Vupz_AhWSr1YBHZWpA4cQMygWegUIARDxAQ..i&imgrefurl=https%3A%2F%2Fwww.timeout.com%2Flondon%2Ftheatre%2Fwinnie-the-pooh-the-musical-review&docid=G3CeWcptGE1WCM&w=3000&h=2039&q=winnie%20the%20pooh&hl=zh_TW&ved=2ahUKEwjgx4_Vupz_AhWSr1YBHZWpA4cQMygWegUIARDxAQ', 'https://www.google.com.tw/imgres?imgurl=https%3A%2F%2Fstatic.independent.co.uk%2F2023%2F03%2F16%2F20%2FWinnie-The-Pooh-Quad.jpg%3Fwidth%3D1200%26height%3D1200%26fit%3Dcrop&tbnid=6Qii8G110Y_2AM&vet=12ahUKEwjgx4_Vupz_AhWSr1YBHZWpA4cQMygXegUIARDzAQ..i&imgrefurl=https%3A%2F%2Fwww.independent.co.uk%2Farts-entertainment%2Ffilms%2Ffeatures%2Fwinnie-the-pooh-blood-and-honey-interview-b2302577.html&docid=yaCfcVtnwtvObM&w=1200&h=1200&q=winnie%20the%20pooh&hl=zh_TW&ved=2ahUKEwjgx4_Vupz_AhWSr1YBHZWpA4cQMygXegUIARDzAQ', 'https://www.google.com.tw/imgres?imgurl=https%3A%2F%2Fi.guim.co.uk%2Fimg%2Fmedia%2F2bff5950fc76f13e58c11d99f2ceb2141194af8b%2F372_415_3599_2160%2Fmaster%2F3599.jpg%3Fwidth%3D1200%26height%3D1200%26quality%3D85%26auto%3Dformat%26fit%3Dcrop%26s%3Df80e3d71fef97cd23b31c9a0ed1efd26&tbnid=5o3OZCwLfWd4hM&vet=12ahUKEwjgx4_Vupz_AhWSr1YBHZWpA4cQMygZegUIARD8AQ..i&imgrefurl=https%3A%2F%2Fwww.theguardian.com%2Fstage%2F2023%2Fmar%2F27%2Fwinnie-the-pooh-review-disney-musical&docid=WeMbIMfieib-BM&w=1200&h=1200&q=winnie%20the%20pooh&hl=zh_TW&ved=2ahUKEwjgx4_Vupz_AhWSr1YBHZWpA4cQMygZegUIARD8AQ', 'https://www.google.com.tw/imgres?imgurl=https%3A%2F%2Fmedia.gq.com%2Fphotos%2F5b609c58821b2c6074eaebf1%2F1%3A1%2Fw_1333%2Ch_1333%2Cc_limit%2FPoohPants.jpg&tbnid=ZIvVwMOKoybQ5M&vet=12ahUKEwjgx4_Vupz_AhWSr1YBHZWpA4cQMygaegUIARD-AQ..i&imgrefurl=https%3A%2F%2Fwww.gq.com%2Fstory%2Fwinnie-the-pooh-pants&docid=fL2U32eVT23BmM&w=1333&h=1333&q=winnie%20the%20pooh&hl=zh_TW&ved=2ahUKEwjgx4_Vupz_AhWSr1YBHZWpA4cQMygaegUIARD-AQ', 'https://www.google.com.tw/imgres?imgurl=https%3A%2F%2Fwww.rollingstone.com%2Fwp-content%2Fuploads%2F2023%2F04%2Fking-charles-winnie-the-pooh-RS-1800.jpg&tbnid=spVE31o0GVK0LM&vet=12ahUKEwjgx4_Vupz_AhWSr1YBHZWpA4cQMygbegUIARCAAg..i&imgrefurl=https%3A%2F%2Fwww.rollingstone.com%2Fculture%2Fculture-news%2Fking-charles-iii-coronation-concert-tom-cruise-nicole-scherzinger-winnie-the-pooh-1234725933%2F&docid=cjE8FnpkqJCd0M&w=1800&h=1200&q=winnie%20the%20pooh&hl=zh_TW&ved=2ahUKEwjgx4_Vupz_AhWSr1YBHZWpA4cQMygbegUIARCAAg', 'https://www.google.com.tw/imgres?imgurl=https%3A%2F%2Fwww.costco.com.tw%2Fmedias%2Fsys_master%2Fimages%2Fh8f%2Fhf3%2F69873255088158.jpg&tbnid=4ikLgUHR8GRZHM&vet=12ahUKEwjgx4_Vupz_AhWSr1YBHZWpA4cQMygcegUIARCCAg..i&imgrefurl=https%3A%2F%2Fwww.costco.com.tw%2FOffice-Supplies-Stationery-Books%2FBooks%2FKids-Books%2FWinnie-the-Pooh-The-Complete-Edition%2Fp%2F174901&docid=G6dThXyaNTwAhM&w=1200&h=1200&q=winnie%20the%20pooh&hl=zh_TW&ved=2ahUKEwjgx4_Vupz_AhWSr1YBHZWpA4cQMygcegUIARCCAg', 'https://www.google.com.tw/imgres?imgurl=https%3A%2F%2Fwww.southernliving.com%2Fthmb%2F3j94dvMAmGPEp1zo5Vy6NgOHtz0%3D%2F1500x0%2Ffilters%3Ano_upscale()%3Amax_bytes(150000)%3Astrip_icc()%2FWinnieThePoohTout-02-2000-ab51335deb4b48f9991d4164f8dc1681.jpg&tbnid=kAEspOvjEgFERM&vet=12ahUKEwjgx4_Vupz_AhWSr1YBHZWpA4cQMygdegUIARCEAg..i&imgrefurl=https%3A%2F%2Fwww.southernliving.com%2Fculture%2Ffriendship-quotes-winne-the-pooh&docid=7hrbwf_-kzVYEM&w=1500&h=1000&q=winnie%20the%20pooh&hl=zh_TW&ved=2ahUKEwjgx4_Vupz_AhWSr1YBHZWpA4cQMygdegUIARCEAg', 'https://www.google.com.tw/imgres?imgurl=https%3A%2F%2Fcdn2.psychologytoday.com%2Fassets%2Fstyles%2Fmanual_crop_1_91_1_1528x800%2Fpublic%2Ffield_blog_entry_teaser_image%2F2019-08%2Fwinnie_pooh_png37604_0.png.jpg%3Fitok%3Dm8VaYF2t&tbnid=y5-7ycruk0ko8M&vet=12ahUKEwjgx4_Vupz_AhWSr1YBHZWpA4cQMygeegUIARCGAg..i&imgrefurl=https%3A%2F%2Fwww.psychologytoday.com%2Fus%2Fblog%2Fthe-everyday-unconscious%2F201908%2Fwhat-winnie-the-pooh-can-teach-us-about-ptsd&docid=JxkNcseqIizO7M&w=1528&h=800&q=winnie%20the%20pooh&hl=zh_TW&ved=2ahUKEwjgx4_Vupz_AhWSr1YBHZWpA4cQMygeegUIARCGAg', 'https://www.google.com.tw/imgres?imgurl=http%3A%2F%2Fcdn.shopify.com%2Fs%2Ffiles%2F1%2F0597%2F4540%2F3020%2Fproducts%2FWinnieThePooh_Front.jpg%3Fv%3D1663043473&tbnid=VsMIKW9XNmEG3M&vet=12ahUKEwjgx4_Vupz_AhWSr1YBHZWpA4cQMygfegUIARCIAg..i&imgrefurl=https%3A%2F%2Fbittyboomers.com%2Fproducts%2Fwinnie-the-pooh&docid=nM2Bm8e5SBCT_M&w=3000&h=3000&q=winnie%20the%20pooh&hl=zh_TW&ved=2ahUKEwjgx4_Vupz_AhWSr1YBHZWpA4cQMygfegUIARCIAg', 'https://www.google.com.tw/imgres?imgurl=https%3A%2F%2Fi.guim.co.uk%2Fimg%2Fmedia%2F7d2170962ff53dd527ecccb20854dfb47e5faa7d%2F0_99_2533_1520%2Fmaster%2F2533.jpg%3Fwidth%3D1200%26quality%3D85%26auto%3Dformat%26fit%3Dmax%26s%3Dc0933770fc4aa545856539967ad10dee&tbnid=aIAODhe46uSa0M&vet=12ahUKEwjgx4_Vupz_AhWSr1YBHZWpA4cQMyggegUIARCLAg..i&imgrefurl=https%3A%2F%2Fwww.theguardian.com%2Fus-news%2F2023%2Fmay%2F25%2Fwinnie-the-pooh-books-teaches-texas-kids-run-hide-fight-shooting&docid=JEZWCWd88M7k_M&w=1200&h=720&itg=1&q=winnie%20the%20pooh&hl=zh_TW&ved=2ahUKEwjgx4_Vupz_AhWSr1YBHZWpA4cQMyggegUIARCLAg', 'https://www.google.com.tw/imgres?imgurl=https%3A%2F%2Fprod-ripcut-delivery.disney-plus.net%2Fv1%2Fvariant%2Fdisney%2FD7C76D18E0AF545A5B6D77E6E8680D8807FEEC6F8F75B47811E738E3E8870609%2Fscale%3Fwidth%3D1200%26aspectRatio%3D1.78%26format%3Djpeg&tbnid=zKzWLrvfz8NvnM&vet=12ahUKEwjgx4_Vupz_AhWSr1YBHZWpA4cQMyghegUIARCOAg..i&imgrefurl=https%3A%2F%2Fwww.disneyplus.com%2Fmovies%2Fwinnie-the-pooh%2F6nl0Z9PyWwIC&docid=GpqZuwDOUWzTgM&w=1200&h=675&q=winnie%20the%20pooh&hl=zh_TW&ved=2ahUKEwjgx4_Vupz_AhWSr1YBHZWpA4cQMyghegUIARCOAg', 'https://www.google.com.tw/imgres?imgurl=https%3A%2F%2Fwww.komar.de%2Fmedia%2Fcatalog%2Fproduct%2Fcache%2F5%2Fimage%2F9df78eab33525d08d6e5fb8d27136e95%2F1%2F4%2F1446l-winnie-puuh.jpg&tbnid=atxvsefus0hQyM&vet=12ahUKEwjgx4_Vupz_AhWSr1YBHZWpA4cQMygiegUIARCQAg..i&imgrefurl=https%3A%2F%2Fwww.komar.de%2Fen%2Fwinnie-puh.html&docid=ikn4wJvvkmN6BM&w=828&h=1200&q=winnie%20the%20pooh&hl=zh_TW&ved=2ahUKEwjgx4_Vupz_AhWSr1YBHZWpA4cQMygiegUIARCQAg', 'https://www.google.com.tw/imgres?imgurl=https%3A%2F%2Fkbimages1-a.akamaihd.net%2F0e592d28-04e4-4659-8781-d3eccf8f3a8a%2F1200%2F1200%2FFalse%2Fwinnie-the-pooh-18.jpg&tbnid=cIxdHEfomnLxCM&vet=12ahUKEwjgx4_Vupz_AhWSr1YBHZWpA4cQMygjegUIARCTAg..i&imgrefurl=https%3A%2F%2Fwww.kobo.com%2Ftw%2Fzh%2Faudiobook%2Fwinnie-the-pooh-18&docid=m6kBobjXZiJF_M&w=1200&h=1200&q=winnie%20the%20pooh&hl=zh_TW&ved=2ahUKEwjgx4_Vupz_AhWSr1YBHZWpA4cQMygjegUIARCTAg', 'https://www.google.com.tw/imgres?imgurl=https%3A%2F%2Fimages.squarespace-cdn.com%2Fcontent%2Fv1%2F5bbe8cab7eb88c0882112cab%2F1594767772555-7DDHIB6TWBUII6XPJHR1%2FWinnie%2Bthe%2BPooh%2B12%2B2.5-1.png%3Fformat%3D1000w&tbnid=5KKJMYGMAqDvvM&vet=12ahUKEwjgx4_Vupz_AhWSr1YBHZWpA4cQMygkegUIARCWAg..i&imgrefurl=https%3A%2F%2Fwww.chocohouseonline.com%2Fcard-stock-images%2Fwinnie-the-pooh&docid=yqdR7t1SYoIlmM&w=1000&h=1294&q=winnie%20the%20pooh&hl=zh_TW&ved=2ahUKEwjgx4_Vupz_AhWSr1YBHZWpA4cQMygkegUIARCWAg', 'https://www.google.com.tw/imgres?imgurl=https%3A%2F%2Fwww.steiff.com%2Fimg%2F1800%2F2232%2Fresize%2Fcatalog%2Fproduct%2Fs%2Fo%2Fsoft-cuddly-friends-disney-originals-winnie-puuh-024528-6.jpg&tbnid=deWmXktZ8mFrgM&vet=12ahUKEwjgx4_Vupz_AhWSr1YBHZWpA4cQMyglegUIARCYAg..i&imgrefurl=https%3A%2F%2Fwww.steiff.com%2Fen-us%2Fdisney-s-winnie-the-pooh-024528&docid=6_6DUrnwQP-QoM&w=1800&h=1800&q=winnie%20the%20pooh&hl=zh_TW&ved=2ahUKEwjgx4_Vupz_AhWSr1YBHZWpA4cQMyglegUIARCYAg', 'https://www.google.com.tw/imgres?imgurl=https%3A%2F%2Fstatic1.colliderimages.com%2Fwordpress%2Fwp-content%2Fuploads%2F2023%2F01%2Fwinnie-the-pooh.jpg&tbnid=MORew0B-ZLhL4M&vet=12ahUKEwjgx4_Vupz_AhWSr1YBHZWpA4cQMygmegUIARCaAg..i&imgrefurl=https%3A%2F%2Fcollider.com%2Fwinnie-the-pooh-animated-movies%2F&docid=2zd9jXyydI2vhM&w=1400&h=700&q=winnie%20the%20pooh&hl=zh_TW&ved=2ahUKEwjgx4_Vupz_AhWSr1YBHZWpA4cQMygmegUIARCaAg', 'https://www.google.com.tw/imgres?imgurl=https%3A%2F%2Fwww.reuters.com%2Fresizer%2FipfQ9l3vDZjnNA_6_mtKEKbXLjE%3D%2F1200x1200%2Fsmart%2Ffilters%3Aquality(80)%2Fcloudfront-us-east-2.images.arcpublishing.com%2Freuters%2FAE7UHWRNQZLCTJLYL6RNQI6PHI.jpg&tbnid=G8hS9JLOkKlKWM&vet=12ahUKEwjgx4_Vupz_AhWSr1YBHZWpA4cQMygnegUIARCcAg..i&imgrefurl=https%3A%2F%2Fwww.reuters.com%2Flifestyle%2Fscreening-winnie-pooh-horror-film-cancelled-hong-kong-2023-03-21%2F&docid=_cgdBSY2qqptUM&w=1200&h=1200&q=winnie%20the%20pooh&hl=zh_TW&ved=2ahUKEwjgx4_Vupz_AhWSr1YBHZWpA4cQMygnegUIARCcAg', 'https://www.google.com.tw/imgres?imgurl=https%3A%2F%2Fupload.wikimedia.org%2Fwikipedia%2Fcommons%2Fb%2Fb5%2FXinnie_the_Pooh.png&tbnid=Ju8B66y-WhPQqM&vet=12ahUKEwjgx4_Vupz_AhWSr1YBHZWpA4cQMygoegUIARCeAg..i&imgrefurl=https%3A%2F%2Fzh.wikipedia.org%2Fzh-tw%2FFile%3AXinnie_the_Pooh.png&docid=4PiJuUUyB88qvM&w=1024&h=1024&q=winnie%20the%20pooh&hl=zh_TW&ved=2ahUKEwjgx4_Vupz_AhWSr1YBHZWpA4cQMygoegUIARCeAg', 'https://www.google.com.tw/imgres?imgurl=https%3A%2F%2Fwww.lego.com%2Fcdn%2Fcs%2Fset%2Fassets%2Fblt1166f9351b1193e4%2F854191_Box3.png&tbnid=uavoJsl-5ph_aM&vet=12ahUKEwjgx4_Vupz_AhWSr1YBHZWpA4cQMygpegUIARCgAg..i&imgrefurl=https%3A%2F%2Fwww.lego.com%2Fen-us%2Fproduct%2Fwinnie-the-pooh-keyring-854191&docid=Ceb3grmi-vS8MM&w=901&h=3103&q=winnie%20the%20pooh&hl=zh_TW&ved=2ahUKEwjgx4_Vupz_AhWSr1YBHZWpA4cQMygpegUIARCgAg', 'https://www.google.com.tw/imgres?imgurl=https%3A%2F%2Fi.ytimg.com%2Fvi%2FWkk5xn5db7E%2Fmaxresdefault.jpg&tbnid=BmyRpwZH6Ht49M&vet=12ahUKEwjgx4_Vupz_AhWSr1YBHZWpA4cQMygqegUIARCiAg..i&imgrefurl=https%3A%2F%2Fwww.youtube.com%2Fwatch%3Fv%3DWkk5xn5db7E&docid=0vnIcjHVnsa0mM&w=1280&h=720&itg=1&q=winnie%20the%20pooh&hl=zh_TW&ved=2ahUKEwjgx4_Vupz_AhWSr1YBHZWpA4cQMygqegUIARCiAg', 'https://www.google.com.tw/imgres?imgurl=https%3A%2F%2Fwww.economist.com%2Fcdn-cgi%2Fimage%2Fwidth%3D1424%2Cquality%3D80%2Cformat%3Dauto%2Fmedia-assets%2Fimage%2F20230422_BLP507.jpg&tbnid=rj4CXe3yvGf89M&vet=12ahUKEwjgx4_Vupz_AhWSr1YBHZWpA4cQMygregUIARCmAg..i&imgrefurl=https%3A%2F%2Fwww.economist.com%2Fthe-economist-explains%2F2023%2F04%2F20%2Fwhy-winnie-the-pooh-makes-xi-jinping-uncomfortable&docid=nAi2yuBxnzNUgM&w=1280&h=720&q=winnie%20the%20pooh&hl=zh_TW&ved=2ahUKEwjgx4_Vupz_AhWSr1YBHZWpA4cQMygregUIARCmAg', 'https://www.google.com.tw/imgres?imgurl=https%3A%2F%2Flive-cdn-www.nypl.org%2Fs3fs-public%2Fsasb_2021_08_30_treasures2-01920r.jpeg&tbnid=64n-Se8dr9pUBM&vet=12ahUKEwjgx4_Vupz_AhWSr1YBHZWpA4cQMygsegUIARCoAg..i&imgrefurl=https%3A%2F%2Fwww.nypl.org%2Fabout%2Flocations%2Fschwarzman%2Fchildrens-center-42nd-street%2Fpooh&docid=6UpEVJsqIcQW8M&w=1500&h=1019&q=winnie%20the%20pooh&hl=zh_TW&ved=2ahUKEwjgx4_Vupz_AhWSr1YBHZWpA4cQMygsegUIARCoAg', 'https://www.google.com.tw/imgres?imgurl=https%3A%2F%2Fwww.lladro.com%2Fmedia%2Fcatalog%2Fproduct%2F7%2F1%2F71d8738533d6f00e179e49b2b5d02a9429fddedfd3651b2168ee3db8c9f53d50af4b45cd65b8902404f607be05c616389485a00822b95367510caaefa33c6fa3.jpg&tbnid=Kl9YDa6rJXj4gM&vet=12ahUKEwjgx4_Vupz_AhWSr1YBHZWpA4cQMygtegUIARCqAg..i&imgrefurl=https%3A%2F%2Fwww.lladro.com%2Fen_us%2Fwinnie-the-pooh-figurine-en-us-01009115.html&docid=Cs2CXPDhaYMQ8M&w=1512&h=2100&q=winnie%20the%20pooh&hl=zh_TW&ved=2ahUKEwjgx4_Vupz_AhWSr1YBHZWpA4cQMygtegUIARCqAg', 'https://www.google.com.tw/imgres?imgurl=https%3A%2F%2Fwww.komar.de%2Fmedia%2Fcatalog%2Fproduct%2Fcache%2F5%2Fimage%2F9df78eab33525d08d6e5fb8d27136e95%2F4%2F-%2F4-4116_winnie_pooh_tree_ma.jpg&tbnid=iTydIqj8935KnM&vet=12ahUKEwjgx4_Vupz_AhWSr1YBHZWpA4cQMyguegUIARCtAg..i&imgrefurl=https%3A%2F%2Fwww.komar.de%2Fen%2Fwinnie-pooh-tree.html&docid=bmhvgdSbvQRpdM&w=1450&h=2000&q=winnie%20the%20pooh&hl=zh_TW&ved=2ahUKEwjgx4_Vupz_AhWSr1YBHZWpA4cQMyguegUIARCtAg', 'https://www.google.com.tw/imgres?imgurl=http%3A%2F%2Fcdn.shopify.com%2Fs%2Ffiles%2F1%2F0417%2F6360%2F2586%2Fproducts%2Fimage_a52bcdbe-af40-4335-9ec4-948711bedad8_1200x1200.png%3Fv%3D1626433468&tbnid=esQ3jUqL23jduM&vet=12ahUKEwjgx4_Vupz_AhWSr1YBHZWpA4cQMygvegUIARCvAg..i&imgrefurl=https%3A%2F%2Fgingerbreadfox.co.uk%2Fproducts%2Fwinnie-the-pooh&docid=6-U2ume7ByO8xM&w=1200&h=900&q=winnie%20the%20pooh&hl=zh_TW&ved=2ahUKEwjgx4_Vupz_AhWSr1YBHZWpA4cQMygvegUIARCvAg', 'https://www.google.com.tw/imgres?imgurl=https%3A%2F%2Fm.media-amazon.com%2Fimages%2FI%2F91iup2krj3L._AC_UF1000%2C1000_QL80_.jpg&tbnid=gkXbhQX77RywJM&vet=12ahUKEwjgx4_Vupz_AhWSr1YBHZWpA4cQMygwegUIARCyAg..i&imgrefurl=https%3A%2F%2Fwww.amazon.com%2FDisney-Winnie-Pooh-Classic-Books%2Fdp%2F2764354479&docid=ulUIbonf9vDMFM&w=1000&h=1000&q=winnie%20the%20pooh&hl=zh_TW&ved=2ahUKEwjgx4_Vupz_AhWSr1YBHZWpA4cQMygwegUIARCyAg']\n"
     ]
    }
   ],
   "source": [
    "#piclist = driver.find_elements(By.XPATH,'//*[@class=\"bRMDJf islir\"]') #find elements---list\n",
    "#for every in piclist:\n",
    "    #every.click()\n",
    "\n",
    "import time\n",
    "smallpic = driver.find_elements(By.CLASS_NAME,\"wXeWr\")\n",
    "href = []\n",
    "\n",
    "for img in smallpic:\n",
    "    img.click()\n",
    "    href.append(img.get_attribute(\"href\"))\n",
    "    \n",
    "print(href)"
   ]
  },
  {
   "cell_type": "code",
   "execution_count": 17,
   "id": "7615aa11",
   "metadata": {},
   "outputs": [
    {
     "name": "stdout",
     "output_type": "stream",
     "text": [
      "['https://static.wikia.nocookie.net/p__/images/6/6e/Winnie_The_Pooh.png/revision/latest?cb=20190922201041&path-prefix=protagonist', 'https://cdn.shopify.com/s/files/1/0598/4085/6273/collections/Pooh.png?v=1662823655', 'https://lumiere-a.akamaihd.net/v1/images/uk_winnie-the-pooh_hero-banner_r_09ed008d.jpeg?region=0,0,3200,1366', 'https://www.rd.com/wp-content/uploads/2020/01/shutterstock_247528582-2-copy-scaled.jpg', 'https://people.com/thmb/et3_imOkc0bUiShIGpFJMKebK70=/1500x0/filters:no_upscale():max_bytes(150000):strip_icc():focal(999x0:1001x2)/winnie-the-pooh-3-3ab9d3a3f4464722933f4fa12fec1fa5.jpg', 'https://i.ytimg.com/vi/ACjLq_tyaqo/maxresdefault.jpg', 'https://static.wikia.nocookie.net/tmnt/images/1/11/Winnie_Pooh.jpg/revision/latest?cb=20140826022503', 'https://books.disney.com/content/uploads/2021/07/1368072119.jpg', 'https://media.wired.com/photos/64274f34b388debed65f7898/master/w_2560%2Cc_limit/Pooh-Blood-And-Honey-Culture.jpg', 'https://www.alysstephens.org/assets/2022/05/Winnie-the-Pooh-Web-Art-5.3.22-1190x680.jpg']\n"
     ]
    }
   ],
   "source": [
    "src = []\n",
    "for bigpic in href[:10]:\n",
    "    driver.get(bigpic)\n",
    "    time.sleep(2)\n",
    "    #link = driver.find_element(By.XPATH,'//img[@jsaction=\"VQAsE\"]')\n",
    "    link = driver.find_element(By.CLASS_NAME,\"r48jcc\")\n",
    "    src.append(link.get_attribute(\"src\"))\n",
    "\n",
    "print(src)\n",
    "\n",
    "    \n"
   ]
  },
  {
   "cell_type": "code",
   "execution_count": 25,
   "id": "fbadd6d2",
   "metadata": {},
   "outputs": [
    {
     "name": "stdout",
     "output_type": "stream",
     "text": [
      "C:\\Users\\user\\Desktop\\google\\PIC\n"
     ]
    }
   ],
   "source": [
    "import os\n",
    "newfile1 ='/Users/user/Desktop/PIC'\n",
    "os.mkdir(newfile1)#創資料夾\n",
    "#os.rmdir(path)#刪資料夾\n",
    "path1= os.getcwd() #取得目前存檔位置\n",
    "path1= os.path.join(path1,\"PIC\") #在目前存檔位置後新增路徑名稱\"檔案名稱\"\n",
    "print(path1)"
   ]
  },
  {
   "cell_type": "code",
   "execution_count": 30,
   "id": "d0758c35",
   "metadata": {},
   "outputs": [
    {
     "name": "stdout",
     "output_type": "stream",
     "text": [
      "Collecting wget\n",
      "  Downloading wget-3.2.zip (10 kB)\n",
      "  Preparing metadata (setup.py): started\n",
      "  Preparing metadata (setup.py): finished with status 'done'\n",
      "Building wheels for collected packages: wget\n",
      "  Building wheel for wget (setup.py): started\n",
      "  Building wheel for wget (setup.py): finished with status 'done'\n",
      "  Created wheel for wget: filename=wget-3.2-py3-none-any.whl size=9680 sha256=2fcfbd2bee5567a9991e75da737efdeb8088673ac93a2fd12caceac694f1e3cb\n",
      "  Stored in directory: c:\\users\\user\\appdata\\local\\pip\\cache\\wheels\\46\\78\\0e\\8e5e2b500f83a682c8d7e7ce820638cf99faa894a662f71cf0\n",
      "Successfully built wget\n",
      "Installing collected packages: wget\n",
      "Successfully installed wget-3.2\n"
     ]
    }
   ],
   "source": [
    "!pip3 install wget\n",
    "import wget\n"
   ]
  },
  {
   "cell_type": "code",
   "execution_count": 32,
   "id": "90fb3484",
   "metadata": {},
   "outputs": [
    {
     "data": {
      "text/plain": [
       "'/Users/user/Desktop/PIC\\\\1.jpg'"
      ]
     },
     "execution_count": 32,
     "metadata": {},
     "output_type": "execute_result"
    }
   ],
   "source": [
    "#存檔\n",
    "import wget\n",
    "save_as=os.path.join(newfile1,\"1.jpg\")\n",
    "wget.download(src[0],save_as)"
   ]
  },
  {
   "cell_type": "code",
   "execution_count": 33,
   "id": "95753b24",
   "metadata": {},
   "outputs": [],
   "source": [
    "#全部存檔\n",
    "imgnum=0\n",
    "for Src in src:\n",
    "    try:\n",
    "        imgnum+=1\n",
    "        save_as = os.path.join(newfile1,str(imgnum)+\".jpg\")\n",
    "        wget.download(Src,save_as)\n",
    "    except:\n",
    "        pass"
   ]
  },
  {
   "cell_type": "code",
   "execution_count": 35,
   "id": "269d0382",
   "metadata": {},
   "outputs": [
    {
     "name": "stdout",
     "output_type": "stream",
     "text": [
      "final\n"
     ]
    }
   ],
   "source": [
    "print(\"final\")"
   ]
  }
 ],
 "metadata": {
  "kernelspec": {
   "display_name": "Python 3 (ipykernel)",
   "language": "python",
   "name": "python3"
  },
  "language_info": {
   "codemirror_mode": {
    "name": "ipython",
    "version": 3
   },
   "file_extension": ".py",
   "mimetype": "text/x-python",
   "name": "python",
   "nbconvert_exporter": "python",
   "pygments_lexer": "ipython3",
   "version": "3.10.9"
  }
 },
 "nbformat": 4,
 "nbformat_minor": 5
}
